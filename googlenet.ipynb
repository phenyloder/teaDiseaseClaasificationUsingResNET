{
 "cells": [
  {
   "cell_type": "code",
   "execution_count": 1,
   "metadata": {},
   "outputs": [],
   "source": [
    "# import libary\n",
    "import numpy as np\n",
    "import pandas as pd\n",
    "import matplotlib.pyplot as plt\n",
    "import os\n",
    "import PIL\n",
    "\n",
    "import tensorflow as tf\n",
    "from tensorflow import keras\n",
    "from keras import layers\n",
    "from keras.layers import Dense, Flatten\n",
    "from keras.models import Sequential\n",
    "from sklearn.metrics import classification_report\n",
    "import pathlib"
   ]
  },
  {
   "cell_type": "code",
   "execution_count": null,
   "metadata": {},
   "outputs": [],
   "source": [
    "dataset_path = \"./teaSicknessDataset\"\n",
    "dataset_dir = pathlib.Path(dataset_path)"
   ]
  },
  {
   "cell_type": "code",
   "execution_count": null,
   "metadata": {},
   "outputs": [],
   "source": [
    "# list of sub directory(class)\n",
    "class_names = []\n",
    "for x in os.walk(dataset_path):\n",
    "    sub_dir = x[0]\n",
    "\n",
    "    sub_dir_list = str(sub_dir).split('\\\\')\n",
    "    if len(sub_dir_list) > 0:\n",
    "        x_class = (sub_dir_list[-1])\n",
    "        class_names.append(x_class)\n",
    "class_names.pop(0)\n",
    "print(class_names)"
   ]
  },
  {
   "cell_type": "code",
   "execution_count": null,
   "metadata": {},
   "outputs": [],
   "source": [
    "# print total number of images in the dataset\n",
    "for class_i in class_names:\n",
    "    image_count = len(list(dataset_dir.glob(f'{class_i}/*.jpg')))\n",
    "    print(f\"Images in class {class_i}:\",image_count)"
   ]
  },
  {
   "cell_type": "code",
   "execution_count": null,
   "metadata": {},
   "outputs": [],
   "source": [
    "# Parameter setting\n",
    "train_batch = 128\n",
    "val_batch = 128\n",
    "img_height = 224\n",
    "img_width = 224\n",
    "IMG_SIZE = (img_height, img_width)\n",
    "val_split = 0.2"
   ]
  },
  {
   "cell_type": "code",
   "execution_count": null,
   "metadata": {},
   "outputs": [],
   "source": [
    "train_ds = tf.keras.utils.image_dataset_from_directory(dataset_dir,\n",
    "                                                       validation_split=val_split,\n",
    "                                                       subset=\"training\",\n",
    "                                                       seed=123,\n",
    "                                                       image_size=(img_height, img_width),\n",
    "                                                       batch_size=train_batch\n",
    "                                                      )"
   ]
  },
  {
   "cell_type": "code",
   "execution_count": null,
   "metadata": {},
   "outputs": [],
   "source": [
    "test_ds = tf.keras.preprocessing.image_dataset_from_directory(\n",
    "dataset_dir,\n",
    "validation_split=val_split,\n",
    "subset=\"validation\",\n",
    "seed=123,\n",
    "image_size=(img_height, img_width),\n",
    "batch_size=train_batch)"
   ]
  },
  {
   "cell_type": "code",
   "execution_count": null,
   "metadata": {},
   "outputs": [],
   "source": [
    "dnn_model = Sequential()"
   ]
  }
 ],
 "metadata": {
  "kernelspec": {
   "display_name": "Python 3",
   "language": "python",
   "name": "python3"
  },
  "language_info": {
   "codemirror_mode": {
    "name": "ipython",
    "version": 3
   },
   "file_extension": ".py",
   "mimetype": "text/x-python",
   "name": "python",
   "nbconvert_exporter": "python",
   "pygments_lexer": "ipython3",
   "version": "3.10.4"
  },
  "orig_nbformat": 4
 },
 "nbformat": 4,
 "nbformat_minor": 2
}
